{
 "cells": [
  {
   "cell_type": "code",
   "execution_count": 1,
   "id": "69abe2c7-cfcf-4520-8d26-f4869ba63d65",
   "metadata": {},
   "outputs": [],
   "source": [
    "g=\"goutham\""
   ]
  },
  {
   "cell_type": "code",
   "execution_count": 2,
   "id": "6fa8679c-1d1a-4c3d-b84b-4bf5bdd324cb",
   "metadata": {},
   "outputs": [
    {
     "data": {
      "text/plain": [
       "'goutham'"
      ]
     },
     "execution_count": 2,
     "metadata": {},
     "output_type": "execute_result"
    }
   ],
   "source": [
    "g"
   ]
  },
  {
   "cell_type": "code",
   "execution_count": 3,
   "id": "fa378451-f68a-4780-852a-7e4db659e7fb",
   "metadata": {},
   "outputs": [
    {
     "data": {
      "text/plain": [
       "str"
      ]
     },
     "execution_count": 3,
     "metadata": {},
     "output_type": "execute_result"
    }
   ],
   "source": [
    "type(g)"
   ]
  },
  {
   "cell_type": "code",
   "execution_count": 4,
   "id": "acef5ca0-b13d-43a2-9499-5efd97465b4a",
   "metadata": {},
   "outputs": [],
   "source": [
    "l=[1,2,3,4,\"hello\"]"
   ]
  },
  {
   "cell_type": "code",
   "execution_count": 5,
   "id": "cdf93877-c286-4a0e-95c2-1d3e58ae11e4",
   "metadata": {},
   "outputs": [
    {
     "data": {
      "text/plain": [
       "[1, 2, 3, 4, 'hello']"
      ]
     },
     "execution_count": 5,
     "metadata": {},
     "output_type": "execute_result"
    }
   ],
   "source": [
    "l"
   ]
  },
  {
   "cell_type": "code",
   "execution_count": 6,
   "id": "03e18494-a1fd-4fca-8b5a-71e64c060aef",
   "metadata": {},
   "outputs": [
    {
     "data": {
      "text/plain": [
       "list"
      ]
     },
     "execution_count": 6,
     "metadata": {},
     "output_type": "execute_result"
    }
   ],
   "source": [
    "type(l)"
   ]
  },
  {
   "cell_type": "code",
   "execution_count": 7,
   "id": "26fd3260-c9b5-4570-932d-6b68da63ec62",
   "metadata": {},
   "outputs": [],
   "source": [
    "b=30.39"
   ]
  },
  {
   "cell_type": "code",
   "execution_count": 8,
   "id": "eb52a535-c0ac-4dea-8bc9-d193411ccf06",
   "metadata": {},
   "outputs": [
    {
     "data": {
      "text/plain": [
       "30.39"
      ]
     },
     "execution_count": 8,
     "metadata": {},
     "output_type": "execute_result"
    }
   ],
   "source": [
    "b"
   ]
  },
  {
   "cell_type": "code",
   "execution_count": 9,
   "id": "5cf5786d-7e54-481f-8741-653d64ff54c6",
   "metadata": {},
   "outputs": [
    {
     "data": {
      "text/plain": [
       "float"
      ]
     },
     "execution_count": 9,
     "metadata": {},
     "output_type": "execute_result"
    }
   ],
   "source": [
    "type(b)"
   ]
  },
  {
   "cell_type": "code",
   "execution_count": 10,
   "id": "674cbfee-7656-42c0-8579-8c9d8af95a07",
   "metadata": {},
   "outputs": [],
   "source": [
    "t=(1,2,3)"
   ]
  },
  {
   "cell_type": "code",
   "execution_count": 11,
   "id": "4257c353-2a8a-44e6-a34e-6683b9456852",
   "metadata": {},
   "outputs": [
    {
     "data": {
      "text/plain": [
       "(1, 2, 3)"
      ]
     },
     "execution_count": 11,
     "metadata": {},
     "output_type": "execute_result"
    }
   ],
   "source": [
    "t"
   ]
  },
  {
   "cell_type": "code",
   "execution_count": 12,
   "id": "8df9d26d-e2bb-4c82-8130-2400f99acaa7",
   "metadata": {},
   "outputs": [
    {
     "data": {
      "text/plain": [
       "tuple"
      ]
     },
     "execution_count": 12,
     "metadata": {},
     "output_type": "execute_result"
    }
   ],
   "source": [
    "type(t)"
   ]
  },
  {
   "cell_type": "code",
   "execution_count": 13,
   "id": "54a552a6-e08e-4cc9-a85a-da4e64ea5a55",
   "metadata": {},
   "outputs": [],
   "source": [
    "var=\"\"\n",
    "# this is string data type"
   ]
  },
  {
   "cell_type": "code",
   "execution_count": 16,
   "id": "e473e488-f4ad-4a7e-954b-8be4a3877a95",
   "metadata": {},
   "outputs": [],
   "source": [
    "var2 = '[ DS , ML , Python]'\n",
    "# this is str "
   ]
  },
  {
   "cell_type": "code",
   "execution_count": 17,
   "id": "251421fd-c304-43c5-b939-e7d975ae2264",
   "metadata": {},
   "outputs": [],
   "source": [
    "var3 = ['DS','ML','Python ']\n",
    "#list data type"
   ]
  },
  {
   "cell_type": "code",
   "execution_count": 18,
   "id": "04f990f1-29d2-407d-a9d0-b2549cb0bdb8",
   "metadata": {},
   "outputs": [],
   "source": [
    "var4=1.\n",
    "#float data type"
   ]
  },
  {
   "cell_type": "code",
   "execution_count": 19,
   "id": "d41fcde9-bef8-4efa-a3e4-1cc6c48e2723",
   "metadata": {},
   "outputs": [
    {
     "name": "stdout",
     "output_type": "stream",
     "text": [
      "2.0\n"
     ]
    }
   ],
   "source": [
    "#divison it divides\n",
    "a=10\n",
    "b=5\n",
    "c=a/b\n",
    "print(c)"
   ]
  },
  {
   "cell_type": "code",
   "execution_count": 20,
   "id": "f5d43e27-4835-4035-9217-c09ae0a664e3",
   "metadata": {},
   "outputs": [
    {
     "name": "stdout",
     "output_type": "stream",
     "text": [
      "1\n"
     ]
    }
   ],
   "source": [
    "#remainder \n",
    "a=10\n",
    "b=3\n",
    "c=a%b\n",
    "print(c)"
   ]
  },
  {
   "cell_type": "code",
   "execution_count": 21,
   "id": "720d9add-56af-4914-8240-8224f2aeabda",
   "metadata": {},
   "outputs": [
    {
     "name": "stdout",
     "output_type": "stream",
     "text": [
      "3\n"
     ]
    }
   ],
   "source": [
    "#floor division it gives near by value\n",
    "a=10\n",
    "b=3\n",
    "c=a//b\n",
    "print(c)"
   ]
  },
  {
   "cell_type": "code",
   "execution_count": 22,
   "id": "664ae7d5-f2ce-4cdf-af3b-502e9596ce4f",
   "metadata": {},
   "outputs": [
    {
     "data": {
      "text/plain": [
       "9"
      ]
     },
     "execution_count": 22,
     "metadata": {},
     "output_type": "execute_result"
    }
   ],
   "source": [
    "#power\n",
    "3**2"
   ]
  },
  {
   "cell_type": "code",
   "execution_count": 27,
   "id": "d75413d7-03a1-42ad-8cd0-c14cc61916c3",
   "metadata": {},
   "outputs": [
    {
     "name": "stdout",
     "output_type": "stream",
     "text": [
      "1 <class 'int'>\n",
      "2 <class 'int'>\n",
      "3 <class 'int'>\n",
      "4 <class 'int'>\n",
      "5 <class 'int'>\n",
      "goutham <class 'str'>\n",
      "2.0 <class 'float'>\n",
      "11 <class 'int'>\n",
      "SSSS <class 'str'>\n",
      "100 <class 'int'>\n"
     ]
    }
   ],
   "source": [
    "#question4\n",
    "l=[1,2,3,4,5,\"goutham\",2.0,11,\"SSSS\",100]\n",
    "for i in l:\n",
    "    print(i,type(i))"
   ]
  },
  {
   "cell_type": "code",
   "execution_count": 30,
   "id": "e3ce3780-f1db-40ef-8306-00e53d2c9c6a",
   "metadata": {},
   "outputs": [
    {
     "name": "stdout",
     "output_type": "stream",
     "text": [
      "2\n"
     ]
    }
   ],
   "source": [
    "#question 5\n",
    "count=0\n",
    "a=9\n",
    "b=3\n",
    "while a%b ==0:\n",
    "    a/=b\n",
    "    count=count+1\n",
    "if count>0:\n",
    "    print(count)\n",
    "else:\n",
    "    print(count)"
   ]
  },
  {
   "cell_type": "code",
   "execution_count": 1,
   "id": "365f877f-312f-47ee-abc8-cda49b20e2a3",
   "metadata": {},
   "outputs": [
    {
     "name": "stdout",
     "output_type": "stream",
     "text": [
      " it not divides 1\n",
      " it not divides 2\n",
      " it divides 3\n",
      " it not divides 4\n",
      " it not divides 5\n",
      " it divides 6\n",
      " it not divides 7\n",
      " it not divides 8\n",
      " it divides 9\n",
      " it not divides 10\n",
      " it not divides 11\n",
      " it divides 12\n",
      " it not divides 13\n",
      " it not divides 14\n",
      " it divides 15\n",
      " it not divides 16\n",
      " it not divides 17\n",
      " it divides 18\n",
      " it not divides 19\n",
      " it not divides 20\n",
      " it divides 21\n",
      " it not divides 22\n",
      " it not divides 23\n",
      " it divides 24\n",
      " it not divides 25\n"
     ]
    }
   ],
   "source": [
    "#question 6\n",
    "l=[1,2,3,4,5,6,7,8,9,10,11,12,13,14,15,16,17,18,19,20,21,22,23,24,25]\n",
    "for i in l:\n",
    "    if i%3==0:\n",
    "        print(\" it divides\",i)\n",
    "    else:\n",
    "        print(\" it not divides\",i)"
   ]
  },
  {
   "cell_type": "code",
   "execution_count": 2,
   "id": "0ca115a4-ce1d-4156-8e49-46d9bd12b46b",
   "metadata": {},
   "outputs": [],
   "source": [
    "#question 7\n",
    "\"\"\" mutability is changing values using index numbers  for a particular data type\"\"\"\n",
    "l=[1,2,3]\n",
    "l[1]=22\n",
    "\"\"\" immutability is not able change the values using index numbers\"\"\"\n",
    "g=\"goutham\""
   ]
  },
  {
   "cell_type": "code",
   "execution_count": null,
   "id": "2b4ef253-e260-4da8-8c39-e2928532db51",
   "metadata": {},
   "outputs": [],
   "source": []
  }
 ],
 "metadata": {
  "kernelspec": {
   "display_name": "Python 3 (ipykernel)",
   "language": "python",
   "name": "python3"
  },
  "language_info": {
   "codemirror_mode": {
    "name": "ipython",
    "version": 3
   },
   "file_extension": ".py",
   "mimetype": "text/x-python",
   "name": "python",
   "nbconvert_exporter": "python",
   "pygments_lexer": "ipython3",
   "version": "3.10.8"
  }
 },
 "nbformat": 4,
 "nbformat_minor": 5
}

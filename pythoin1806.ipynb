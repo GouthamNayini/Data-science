{
 "cells": [
  {
   "cell_type": "code",
   "execution_count": 2,
   "id": "54cbfadb-245c-4362-afef-5a43a15d7db5",
   "metadata": {},
   "outputs": [
    {
     "name": "stdout",
     "output_type": "stream",
     "text": [
      " my name is goutham\n"
     ]
    }
   ],
   "source": [
    "name=\"goutham\"\n",
    "print(f\" my name is {name}\")"
   ]
  },
  {
   "cell_type": "code",
   "execution_count": 3,
   "id": "9fdfb7de-db3a-43ed-bc7e-67e6685277ed",
   "metadata": {},
   "outputs": [
    {
     "name": "stdout",
     "output_type": "stream",
     "text": [
      "my name is goutham and age is21\n"
     ]
    }
   ],
   "source": [
    "age=21\n",
    "name=\"goutham\"\n",
    "print(\"my name is {} and age is{}\".format(name,age))"
   ]
  },
  {
   "cell_type": "code",
   "execution_count": 4,
   "id": "c762bb8c-389e-44cb-9d8c-d9113ed13ea4",
   "metadata": {},
   "outputs": [
    {
     "name": "stdout",
     "output_type": "stream",
     "text": [
      "my age is 21 and i have completed my: degree mca with name of goutham\n"
     ]
    }
   ],
   "source": [
    "name=\"goutham\"\n",
    "age=21\n",
    "degree=\"mca\"\n",
    "print(\"my age is {myage} and i have completed my: degree {mydegree} with name of {myname}\".format(myage=age,mydegree=degree,myname=name)) "
   ]
  },
  {
   "cell_type": "code",
   "execution_count": 8,
   "id": "2c4a9b63-6967-4c06-bc06-7401b3c4b028",
   "metadata": {},
   "outputs": [
    {
     "name": "stdin",
     "output_type": "stream",
     "text": [
      "enter product price 200\n"
     ]
    },
    {
     "name": "stdout",
     "output_type": "stream",
     "text": [
      "the price is : 180.0\n"
     ]
    }
   ],
   "source": [
    "price=int(input(\"enter product price\"))\n",
    "if price>=1000:\n",
    "                print(\"the price is:\",price-price*0.20)\n",
    "else:\n",
    "                print(\"the price is :\",price-price*0.10)\n",
    "                "
   ]
  },
  {
   "cell_type": "code",
   "execution_count": 19,
   "id": "64394657-677e-4d68-8f64-0354c8544538",
   "metadata": {},
   "outputs": [
    {
     "name": "stdin",
     "output_type": "stream",
     "text": [
      "enter product Price 5000\n"
     ]
    },
    {
     "name": "stdout",
     "output_type": "stream",
     "text": [
      "the price is 4000.0\n"
     ]
    }
   ],
   "source": [
    "price=int(input(\"enter product Price\"))\n",
    "if price>3000 :\n",
    "    print(\"the price is {discountprice}\".format(discountprice=price-price*0.2))\n",
    "elif price>=2000 and price<=3000 :\n",
    "          print(\"the price is {discountprice}\".format(discountprice=price-price*0.3))\n",
    "else :\n",
    "            print(\"the price is {discountprice}\".format(discountprice=price-price*0.4))"
   ]
  },
  {
   "cell_type": "code",
   "execution_count": null,
   "id": "15e0e748-a1a0-475f-b8a7-1412f776f18a",
   "metadata": {},
   "outputs": [],
   "source": []
  }
 ],
 "metadata": {
  "kernelspec": {
   "display_name": "Python 3 (ipykernel)",
   "language": "python",
   "name": "python3"
  },
  "language_info": {
   "codemirror_mode": {
    "name": "ipython",
    "version": 3
   },
   "file_extension": ".py",
   "mimetype": "text/x-python",
   "name": "python",
   "nbconvert_exporter": "python",
   "pygments_lexer": "ipython3",
   "version": "3.10.8"
  }
 },
 "nbformat": 4,
 "nbformat_minor": 5
}
